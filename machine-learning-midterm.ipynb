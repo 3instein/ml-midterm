{
 "cells": [
  {
   "cell_type": "markdown",
   "metadata": {},
   "source": [
    "# Dataset\n",
    "Link: https://raw.githubusercontent.com/twiradinata/datasets/main/property_surabaya.csv"
   ]
  },
  {
   "cell_type": "markdown",
   "metadata": {},
   "source": [
    "Import Library"
   ]
  },
  {
   "cell_type": "code",
   "execution_count": 59,
   "metadata": {},
   "outputs": [],
   "source": [
    "import pandas as pd\n",
    "import numpy as np\n",
    "import matplotlib.pyplot as plt\n",
    "import seaborn as sns"
   ]
  },
  {
   "cell_type": "markdown",
   "metadata": {},
   "source": [
    "Data loading"
   ]
  },
  {
   "cell_type": "code",
   "execution_count": 60,
   "metadata": {},
   "outputs": [
    {
     "data": {
      "text/html": [
       "<div>\n",
       "<style scoped>\n",
       "    .dataframe tbody tr th:only-of-type {\n",
       "        vertical-align: middle;\n",
       "    }\n",
       "\n",
       "    .dataframe tbody tr th {\n",
       "        vertical-align: top;\n",
       "    }\n",
       "\n",
       "    .dataframe thead th {\n",
       "        text-align: right;\n",
       "    }\n",
       "</style>\n",
       "<table border=\"1\" class=\"dataframe\">\n",
       "  <thead>\n",
       "    <tr style=\"text-align: right;\">\n",
       "      <th></th>\n",
       "      <th>cluster_name</th>\n",
       "      <th>surface_area</th>\n",
       "      <th>building_area</th>\n",
       "      <th>bedrooms</th>\n",
       "      <th>bathrooms</th>\n",
       "      <th>storey</th>\n",
       "      <th>community_price</th>\n",
       "      <th>price</th>\n",
       "      <th>ownership_status</th>\n",
       "      <th>facing</th>\n",
       "      <th>house_position</th>\n",
       "      <th>road_width</th>\n",
       "      <th>urgent</th>\n",
       "      <th>building_age</th>\n",
       "      <th>ready_to_use</th>\n",
       "      <th>furnished</th>\n",
       "      <th>category</th>\n",
       "      <th>pricing_category</th>\n",
       "    </tr>\n",
       "  </thead>\n",
       "  <tbody>\n",
       "    <tr>\n",
       "      <th>0</th>\n",
       "      <td>Northwest Lake</td>\n",
       "      <td>72</td>\n",
       "      <td>69</td>\n",
       "      <td>2</td>\n",
       "      <td>2</td>\n",
       "      <td>2</td>\n",
       "      <td>1400000000</td>\n",
       "      <td>1350000000</td>\n",
       "      <td>Hak Guna Bangunan (HGB)</td>\n",
       "      <td>Selatan</td>\n",
       "      <td>Standard</td>\n",
       "      <td>1-2 Mobil</td>\n",
       "      <td>No</td>\n",
       "      <td>1 - 4 Tahun</td>\n",
       "      <td>Yes</td>\n",
       "      <td>No</td>\n",
       "      <td>Premium</td>\n",
       "      <td>Over Priced</td>\n",
       "    </tr>\n",
       "    <tr>\n",
       "      <th>1</th>\n",
       "      <td>Bukit Palma</td>\n",
       "      <td>60</td>\n",
       "      <td>90</td>\n",
       "      <td>3</td>\n",
       "      <td>2</td>\n",
       "      <td>2</td>\n",
       "      <td>1000000000</td>\n",
       "      <td>1125000000</td>\n",
       "      <td>Pengikatan Perjanjian Jual Beli (PPJB)</td>\n",
       "      <td>Selatan</td>\n",
       "      <td>Standard</td>\n",
       "      <td>1-2 Mobil</td>\n",
       "      <td>No</td>\n",
       "      <td>1 - 4 Tahun</td>\n",
       "      <td>Yes</td>\n",
       "      <td>No</td>\n",
       "      <td>Standard</td>\n",
       "      <td>Over Priced</td>\n",
       "    </tr>\n",
       "    <tr>\n",
       "      <th>2</th>\n",
       "      <td>Palma Classica</td>\n",
       "      <td>210</td>\n",
       "      <td>100</td>\n",
       "      <td>4</td>\n",
       "      <td>2</td>\n",
       "      <td>1</td>\n",
       "      <td>2400000000</td>\n",
       "      <td>1999000000</td>\n",
       "      <td>Hak Milik (SHM)</td>\n",
       "      <td>Utara</td>\n",
       "      <td>Standard</td>\n",
       "      <td>&gt; 2 Mobil</td>\n",
       "      <td>Yes</td>\n",
       "      <td>5 - 10 Tahun</td>\n",
       "      <td>Yes</td>\n",
       "      <td>No</td>\n",
       "      <td>Standard</td>\n",
       "      <td>Normal Price</td>\n",
       "    </tr>\n",
       "    <tr>\n",
       "      <th>3</th>\n",
       "      <td>Bukit Palma</td>\n",
       "      <td>120</td>\n",
       "      <td>54</td>\n",
       "      <td>3</td>\n",
       "      <td>1</td>\n",
       "      <td>1</td>\n",
       "      <td>800000000</td>\n",
       "      <td>850000000</td>\n",
       "      <td>Hak Milik (SHM)</td>\n",
       "      <td>Selatan</td>\n",
       "      <td>Standard</td>\n",
       "      <td>&gt; 2 Mobil</td>\n",
       "      <td>No</td>\n",
       "      <td>&gt; 10 Tahun</td>\n",
       "      <td>No</td>\n",
       "      <td>No</td>\n",
       "      <td>Standard</td>\n",
       "      <td>Under Priced</td>\n",
       "    </tr>\n",
       "    <tr>\n",
       "      <th>4</th>\n",
       "      <td>Bukit Palma</td>\n",
       "      <td>60</td>\n",
       "      <td>90</td>\n",
       "      <td>3</td>\n",
       "      <td>2</td>\n",
       "      <td>2</td>\n",
       "      <td>800000000</td>\n",
       "      <td>1025000000</td>\n",
       "      <td>Hak Guna Bangunan (HGB)</td>\n",
       "      <td>Selatan</td>\n",
       "      <td>Standard</td>\n",
       "      <td>&gt; 2 Mobil</td>\n",
       "      <td>No</td>\n",
       "      <td>1 - 4 Tahun</td>\n",
       "      <td>Yes</td>\n",
       "      <td>No</td>\n",
       "      <td>Standard</td>\n",
       "      <td>Over Priced</td>\n",
       "    </tr>\n",
       "  </tbody>\n",
       "</table>\n",
       "</div>"
      ],
      "text/plain": [
       "     cluster_name  surface_area  building_area  bedrooms  bathrooms  storey  \\\n",
       "0  Northwest Lake            72             69         2          2       2   \n",
       "1     Bukit Palma            60             90         3          2       2   \n",
       "2  Palma Classica           210            100         4          2       1   \n",
       "3     Bukit Palma           120             54         3          1       1   \n",
       "4     Bukit Palma            60             90         3          2       2   \n",
       "\n",
       "   community_price       price                        ownership_status  \\\n",
       "0       1400000000  1350000000                 Hak Guna Bangunan (HGB)   \n",
       "1       1000000000  1125000000  Pengikatan Perjanjian Jual Beli (PPJB)   \n",
       "2       2400000000  1999000000                         Hak Milik (SHM)   \n",
       "3        800000000   850000000                         Hak Milik (SHM)   \n",
       "4        800000000  1025000000                 Hak Guna Bangunan (HGB)   \n",
       "\n",
       "    facing house_position road_width urgent  building_age ready_to_use  \\\n",
       "0  Selatan       Standard  1-2 Mobil     No   1 - 4 Tahun          Yes   \n",
       "1  Selatan       Standard  1-2 Mobil     No   1 - 4 Tahun          Yes   \n",
       "2    Utara       Standard  > 2 Mobil    Yes  5 - 10 Tahun          Yes   \n",
       "3  Selatan       Standard  > 2 Mobil     No    > 10 Tahun           No   \n",
       "4  Selatan       Standard  > 2 Mobil     No   1 - 4 Tahun          Yes   \n",
       "\n",
       "  furnished  category pricing_category  \n",
       "0        No   Premium      Over Priced  \n",
       "1        No  Standard      Over Priced  \n",
       "2        No  Standard     Normal Price  \n",
       "3        No  Standard     Under Priced  \n",
       "4        No  Standard      Over Priced  "
      ]
     },
     "execution_count": 60,
     "metadata": {},
     "output_type": "execute_result"
    }
   ],
   "source": [
    "link = 'https://raw.githubusercontent.com/twiradinata/datasets/main/property_surabaya.csv'\n",
    "dataset = pd.read_csv(link, sep=';')\n",
    "dataset.head()"
   ]
  },
  {
   "cell_type": "code",
   "execution_count": 61,
   "metadata": {},
   "outputs": [
    {
     "name": "stdout",
     "output_type": "stream",
     "text": [
      "<class 'pandas.core.frame.DataFrame'>\n",
      "RangeIndex: 490 entries, 0 to 489\n",
      "Data columns (total 18 columns):\n",
      " #   Column            Non-Null Count  Dtype \n",
      "---  ------            --------------  ----- \n",
      " 0   cluster_name      490 non-null    object\n",
      " 1   surface_area      490 non-null    int64 \n",
      " 2   building_area     490 non-null    int64 \n",
      " 3   bedrooms          490 non-null    int64 \n",
      " 4   bathrooms         490 non-null    int64 \n",
      " 5   storey            490 non-null    int64 \n",
      " 6   community_price   490 non-null    int64 \n",
      " 7   price             490 non-null    int64 \n",
      " 8   ownership_status  490 non-null    object\n",
      " 9   facing            490 non-null    object\n",
      " 10  house_position    490 non-null    object\n",
      " 11  road_width        490 non-null    object\n",
      " 12  urgent            480 non-null    object\n",
      " 13  building_age      448 non-null    object\n",
      " 14  ready_to_use      490 non-null    object\n",
      " 15  furnished         490 non-null    object\n",
      " 16  category          490 non-null    object\n",
      " 17  pricing_category  451 non-null    object\n",
      "dtypes: int64(7), object(11)\n",
      "memory usage: 69.0+ KB\n"
     ]
    }
   ],
   "source": [
    "dataset.info()"
   ]
  },
  {
   "cell_type": "code",
   "execution_count": 62,
   "metadata": {},
   "outputs": [
    {
     "data": {
      "text/html": [
       "<div>\n",
       "<style scoped>\n",
       "    .dataframe tbody tr th:only-of-type {\n",
       "        vertical-align: middle;\n",
       "    }\n",
       "\n",
       "    .dataframe tbody tr th {\n",
       "        vertical-align: top;\n",
       "    }\n",
       "\n",
       "    .dataframe thead th {\n",
       "        text-align: right;\n",
       "    }\n",
       "</style>\n",
       "<table border=\"1\" class=\"dataframe\">\n",
       "  <thead>\n",
       "    <tr style=\"text-align: right;\">\n",
       "      <th></th>\n",
       "      <th>surface_area</th>\n",
       "      <th>building_area</th>\n",
       "      <th>bedrooms</th>\n",
       "      <th>bathrooms</th>\n",
       "      <th>storey</th>\n",
       "      <th>community_price</th>\n",
       "      <th>price</th>\n",
       "    </tr>\n",
       "  </thead>\n",
       "  <tbody>\n",
       "    <tr>\n",
       "      <th>count</th>\n",
       "      <td>490.000000</td>\n",
       "      <td>490.000000</td>\n",
       "      <td>490.000000</td>\n",
       "      <td>490.000000</td>\n",
       "      <td>490.000000</td>\n",
       "      <td>4.900000e+02</td>\n",
       "      <td>4.900000e+02</td>\n",
       "    </tr>\n",
       "    <tr>\n",
       "      <th>mean</th>\n",
       "      <td>210.679592</td>\n",
       "      <td>241.763265</td>\n",
       "      <td>4.197959</td>\n",
       "      <td>3.265306</td>\n",
       "      <td>1.877551</td>\n",
       "      <td>4.418763e+09</td>\n",
       "      <td>4.506184e+09</td>\n",
       "    </tr>\n",
       "    <tr>\n",
       "      <th>std</th>\n",
       "      <td>204.129939</td>\n",
       "      <td>238.778138</td>\n",
       "      <td>2.155413</td>\n",
       "      <td>2.093671</td>\n",
       "      <td>0.512927</td>\n",
       "      <td>7.785302e+09</td>\n",
       "      <td>7.623816e+09</td>\n",
       "    </tr>\n",
       "    <tr>\n",
       "      <th>min</th>\n",
       "      <td>35.000000</td>\n",
       "      <td>32.000000</td>\n",
       "      <td>0.000000</td>\n",
       "      <td>1.000000</td>\n",
       "      <td>1.000000</td>\n",
       "      <td>3.000000e+08</td>\n",
       "      <td>3.000000e+08</td>\n",
       "    </tr>\n",
       "    <tr>\n",
       "      <th>25%</th>\n",
       "      <td>96.250000</td>\n",
       "      <td>110.000000</td>\n",
       "      <td>3.000000</td>\n",
       "      <td>2.000000</td>\n",
       "      <td>2.000000</td>\n",
       "      <td>1.500000e+09</td>\n",
       "      <td>1.400000e+09</td>\n",
       "    </tr>\n",
       "    <tr>\n",
       "      <th>50%</th>\n",
       "      <td>155.000000</td>\n",
       "      <td>178.500000</td>\n",
       "      <td>4.000000</td>\n",
       "      <td>3.000000</td>\n",
       "      <td>2.000000</td>\n",
       "      <td>2.500000e+09</td>\n",
       "      <td>2.550000e+09</td>\n",
       "    </tr>\n",
       "    <tr>\n",
       "      <th>75%</th>\n",
       "      <td>240.000000</td>\n",
       "      <td>280.000000</td>\n",
       "      <td>5.000000</td>\n",
       "      <td>4.000000</td>\n",
       "      <td>2.000000</td>\n",
       "      <td>4.500000e+09</td>\n",
       "      <td>4.300000e+09</td>\n",
       "    </tr>\n",
       "    <tr>\n",
       "      <th>max</th>\n",
       "      <td>2000.000000</td>\n",
       "      <td>2000.000000</td>\n",
       "      <td>36.000000</td>\n",
       "      <td>36.000000</td>\n",
       "      <td>4.000000</td>\n",
       "      <td>1.200000e+11</td>\n",
       "      <td>1.050000e+11</td>\n",
       "    </tr>\n",
       "  </tbody>\n",
       "</table>\n",
       "</div>"
      ],
      "text/plain": [
       "       surface_area  building_area    bedrooms   bathrooms      storey  \\\n",
       "count    490.000000     490.000000  490.000000  490.000000  490.000000   \n",
       "mean     210.679592     241.763265    4.197959    3.265306    1.877551   \n",
       "std      204.129939     238.778138    2.155413    2.093671    0.512927   \n",
       "min       35.000000      32.000000    0.000000    1.000000    1.000000   \n",
       "25%       96.250000     110.000000    3.000000    2.000000    2.000000   \n",
       "50%      155.000000     178.500000    4.000000    3.000000    2.000000   \n",
       "75%      240.000000     280.000000    5.000000    4.000000    2.000000   \n",
       "max     2000.000000    2000.000000   36.000000   36.000000    4.000000   \n",
       "\n",
       "       community_price         price  \n",
       "count     4.900000e+02  4.900000e+02  \n",
       "mean      4.418763e+09  4.506184e+09  \n",
       "std       7.785302e+09  7.623816e+09  \n",
       "min       3.000000e+08  3.000000e+08  \n",
       "25%       1.500000e+09  1.400000e+09  \n",
       "50%       2.500000e+09  2.550000e+09  \n",
       "75%       4.500000e+09  4.300000e+09  \n",
       "max       1.200000e+11  1.050000e+11  "
      ]
     },
     "execution_count": 62,
     "metadata": {},
     "output_type": "execute_result"
    }
   ],
   "source": [
    "dataset.describe()"
   ]
  },
  {
   "cell_type": "markdown",
   "metadata": {},
   "source": [
    "Data cleaning"
   ]
  },
  {
   "cell_type": "code",
   "execution_count": 73,
   "metadata": {},
   "outputs": [
    {
     "data": {
      "text/plain": [
       "cluster_name        0\n",
       "surface_area        0\n",
       "building_area       0\n",
       "bedrooms            0\n",
       "bathrooms           0\n",
       "storey              0\n",
       "community_price     0\n",
       "price               0\n",
       "ownership_status    0\n",
       "facing              0\n",
       "house_position      0\n",
       "road_width          0\n",
       "urgent              0\n",
       "building_age        0\n",
       "ready_to_use        0\n",
       "furnished           0\n",
       "category            0\n",
       "pricing_category    0\n",
       "dtype: int64"
      ]
     },
     "execution_count": 73,
     "metadata": {},
     "output_type": "execute_result"
    }
   ],
   "source": [
    "dataset.isnull().sum()"
   ]
  },
  {
   "cell_type": "code",
   "execution_count": 72,
   "metadata": {},
   "outputs": [],
   "source": [
    "from sklearn.impute import SimpleImputer\n",
    "\n",
    "categorical_imputer = SimpleImputer(strategy='most_frequent')\n",
    "dataset.loc[:, ['urgent', 'building_age', 'pricing_category']] = categorical_imputer.fit_transform(dataset[['urgent', 'building_age', 'pricing_category']])"
   ]
  },
  {
   "cell_type": "code",
   "execution_count": 74,
   "metadata": {},
   "outputs": [
    {
     "data": {
      "text/html": [
       "<div>\n",
       "<style scoped>\n",
       "    .dataframe tbody tr th:only-of-type {\n",
       "        vertical-align: middle;\n",
       "    }\n",
       "\n",
       "    .dataframe tbody tr th {\n",
       "        vertical-align: top;\n",
       "    }\n",
       "\n",
       "    .dataframe thead th {\n",
       "        text-align: right;\n",
       "    }\n",
       "</style>\n",
       "<table border=\"1\" class=\"dataframe\">\n",
       "  <thead>\n",
       "    <tr style=\"text-align: right;\">\n",
       "      <th></th>\n",
       "      <th>cluster_name</th>\n",
       "      <th>surface_area</th>\n",
       "      <th>building_area</th>\n",
       "      <th>bedrooms</th>\n",
       "      <th>bathrooms</th>\n",
       "      <th>storey</th>\n",
       "      <th>community_price</th>\n",
       "      <th>price</th>\n",
       "      <th>ownership_status</th>\n",
       "      <th>facing</th>\n",
       "      <th>house_position</th>\n",
       "      <th>road_width</th>\n",
       "      <th>urgent</th>\n",
       "      <th>building_age</th>\n",
       "      <th>ready_to_use</th>\n",
       "      <th>furnished</th>\n",
       "      <th>category</th>\n",
       "      <th>pricing_category</th>\n",
       "    </tr>\n",
       "  </thead>\n",
       "  <tbody>\n",
       "    <tr>\n",
       "      <th>0</th>\n",
       "      <td>79</td>\n",
       "      <td>72</td>\n",
       "      <td>69</td>\n",
       "      <td>2</td>\n",
       "      <td>2</td>\n",
       "      <td>2</td>\n",
       "      <td>1400000000</td>\n",
       "      <td>1350000000</td>\n",
       "      <td>0</td>\n",
       "      <td>1</td>\n",
       "      <td>2</td>\n",
       "      <td>0</td>\n",
       "      <td>0</td>\n",
       "      <td>0</td>\n",
       "      <td>1</td>\n",
       "      <td>0</td>\n",
       "      <td>0</td>\n",
       "      <td>1</td>\n",
       "    </tr>\n",
       "    <tr>\n",
       "      <th>1</th>\n",
       "      <td>9</td>\n",
       "      <td>60</td>\n",
       "      <td>90</td>\n",
       "      <td>3</td>\n",
       "      <td>2</td>\n",
       "      <td>2</td>\n",
       "      <td>1000000000</td>\n",
       "      <td>1125000000</td>\n",
       "      <td>2</td>\n",
       "      <td>1</td>\n",
       "      <td>2</td>\n",
       "      <td>0</td>\n",
       "      <td>0</td>\n",
       "      <td>0</td>\n",
       "      <td>1</td>\n",
       "      <td>0</td>\n",
       "      <td>2</td>\n",
       "      <td>1</td>\n",
       "    </tr>\n",
       "    <tr>\n",
       "      <th>2</th>\n",
       "      <td>83</td>\n",
       "      <td>210</td>\n",
       "      <td>100</td>\n",
       "      <td>4</td>\n",
       "      <td>2</td>\n",
       "      <td>1</td>\n",
       "      <td>2400000000</td>\n",
       "      <td>1999000000</td>\n",
       "      <td>1</td>\n",
       "      <td>3</td>\n",
       "      <td>2</td>\n",
       "      <td>2</td>\n",
       "      <td>1</td>\n",
       "      <td>1</td>\n",
       "      <td>1</td>\n",
       "      <td>0</td>\n",
       "      <td>2</td>\n",
       "      <td>0</td>\n",
       "    </tr>\n",
       "    <tr>\n",
       "      <th>3</th>\n",
       "      <td>9</td>\n",
       "      <td>120</td>\n",
       "      <td>54</td>\n",
       "      <td>3</td>\n",
       "      <td>1</td>\n",
       "      <td>1</td>\n",
       "      <td>800000000</td>\n",
       "      <td>850000000</td>\n",
       "      <td>1</td>\n",
       "      <td>1</td>\n",
       "      <td>2</td>\n",
       "      <td>2</td>\n",
       "      <td>0</td>\n",
       "      <td>2</td>\n",
       "      <td>0</td>\n",
       "      <td>0</td>\n",
       "      <td>2</td>\n",
       "      <td>2</td>\n",
       "    </tr>\n",
       "    <tr>\n",
       "      <th>4</th>\n",
       "      <td>9</td>\n",
       "      <td>60</td>\n",
       "      <td>90</td>\n",
       "      <td>3</td>\n",
       "      <td>2</td>\n",
       "      <td>2</td>\n",
       "      <td>800000000</td>\n",
       "      <td>1025000000</td>\n",
       "      <td>0</td>\n",
       "      <td>1</td>\n",
       "      <td>2</td>\n",
       "      <td>2</td>\n",
       "      <td>0</td>\n",
       "      <td>0</td>\n",
       "      <td>1</td>\n",
       "      <td>0</td>\n",
       "      <td>2</td>\n",
       "      <td>1</td>\n",
       "    </tr>\n",
       "  </tbody>\n",
       "</table>\n",
       "</div>"
      ],
      "text/plain": [
       "   cluster_name  surface_area  building_area  bedrooms  bathrooms  storey  \\\n",
       "0            79            72             69         2          2       2   \n",
       "1             9            60             90         3          2       2   \n",
       "2            83           210            100         4          2       1   \n",
       "3             9           120             54         3          1       1   \n",
       "4             9            60             90         3          2       2   \n",
       "\n",
       "   community_price       price  ownership_status  facing  house_position  \\\n",
       "0       1400000000  1350000000                 0       1               2   \n",
       "1       1000000000  1125000000                 2       1               2   \n",
       "2       2400000000  1999000000                 1       3               2   \n",
       "3        800000000   850000000                 1       1               2   \n",
       "4        800000000  1025000000                 0       1               2   \n",
       "\n",
       "   road_width  urgent  building_age  ready_to_use  furnished  category  \\\n",
       "0           0       0             0             1          0         0   \n",
       "1           0       0             0             1          0         2   \n",
       "2           2       1             1             1          0         2   \n",
       "3           2       0             2             0          0         2   \n",
       "4           2       0             0             1          0         2   \n",
       "\n",
       "   pricing_category  \n",
       "0                 1  \n",
       "1                 1  \n",
       "2                 0  \n",
       "3                 2  \n",
       "4                 1  "
      ]
     },
     "execution_count": 74,
     "metadata": {},
     "output_type": "execute_result"
    }
   ],
   "source": [
    "from sklearn.preprocessing import LabelEncoder\n",
    "\n",
    "le = LabelEncoder()\n",
    "dataset.loc[:, ['cluster_name', 'ownership_status', 'facing', 'house_position', 'road_width', 'urgent', 'building_age', 'ready_to_use', 'furnished', 'category', 'pricing_category']] = dataset.loc[:, ['cluster_name', 'ownership_status', 'facing', 'house_position', 'road_width', 'urgent', 'building_age', 'ready_to_use', 'furnished', 'category', 'pricing_category']].apply(le.fit_transform)\n",
    "\n",
    "dataset.head()\n"
   ]
  },
  {
   "cell_type": "markdown",
   "metadata": {},
   "source": [
    "Splitting the data"
   ]
  },
  {
   "cell_type": "code",
   "execution_count": 83,
   "metadata": {},
   "outputs": [],
   "source": [
    "#Regression\n",
    "X = dataset.loc[:, dataset.columns != 'price']\n",
    "y = dataset.loc[:, 'price']\n",
    "#Classification\n",
    "X_clf = dataset.loc[:, dataset.columns != 'pricing_category']\n",
    "y_clf = dataset.loc[:, 'pricing_category']"
   ]
  },
  {
   "cell_type": "code",
   "execution_count": 85,
   "metadata": {},
   "outputs": [],
   "source": [
    "from sklearn.preprocessing import MinMaxScaler\n",
    "\n",
    "scaler = MinMaxScaler()\n",
    "X_scaled = scaler.fit_transform(X)\n",
    "y_scaled = scaler.fit_transform(y.values.reshape(-1, 1))\n",
    "X_clf_scaled = scaler.fit_transform(X_clf)\n",
    "y_clf_scaled = scaler.fit_transform(y_clf.values.reshape(-1, 1))"
   ]
  },
  {
   "cell_type": "code",
   "execution_count": 86,
   "metadata": {},
   "outputs": [],
   "source": [
    "from sklearn.model_selection import train_test_split\n",
    "\n",
    "X_train, X_test, y_train, y_test = train_test_split(X_scaled, y_scaled, test_size=0.2, random_state=0)\n",
    "X_clf_train, X_clf_test, y_clf_train, y_clf_test = train_test_split(X_clf_scaled, y_clf_scaled, test_size=0.2, random_state=0)"
   ]
  },
  {
   "cell_type": "code",
   "execution_count": 70,
   "metadata": {},
   "outputs": [
    {
     "data": {
      "text/html": [
       "<style>#sk-container-id-2 {color: black;background-color: white;}#sk-container-id-2 pre{padding: 0;}#sk-container-id-2 div.sk-toggleable {background-color: white;}#sk-container-id-2 label.sk-toggleable__label {cursor: pointer;display: block;width: 100%;margin-bottom: 0;padding: 0.3em;box-sizing: border-box;text-align: center;}#sk-container-id-2 label.sk-toggleable__label-arrow:before {content: \"▸\";float: left;margin-right: 0.25em;color: #696969;}#sk-container-id-2 label.sk-toggleable__label-arrow:hover:before {color: black;}#sk-container-id-2 div.sk-estimator:hover label.sk-toggleable__label-arrow:before {color: black;}#sk-container-id-2 div.sk-toggleable__content {max-height: 0;max-width: 0;overflow: hidden;text-align: left;background-color: #f0f8ff;}#sk-container-id-2 div.sk-toggleable__content pre {margin: 0.2em;color: black;border-radius: 0.25em;background-color: #f0f8ff;}#sk-container-id-2 input.sk-toggleable__control:checked~div.sk-toggleable__content {max-height: 200px;max-width: 100%;overflow: auto;}#sk-container-id-2 input.sk-toggleable__control:checked~label.sk-toggleable__label-arrow:before {content: \"▾\";}#sk-container-id-2 div.sk-estimator input.sk-toggleable__control:checked~label.sk-toggleable__label {background-color: #d4ebff;}#sk-container-id-2 div.sk-label input.sk-toggleable__control:checked~label.sk-toggleable__label {background-color: #d4ebff;}#sk-container-id-2 input.sk-hidden--visually {border: 0;clip: rect(1px 1px 1px 1px);clip: rect(1px, 1px, 1px, 1px);height: 1px;margin: -1px;overflow: hidden;padding: 0;position: absolute;width: 1px;}#sk-container-id-2 div.sk-estimator {font-family: monospace;background-color: #f0f8ff;border: 1px dotted black;border-radius: 0.25em;box-sizing: border-box;margin-bottom: 0.5em;}#sk-container-id-2 div.sk-estimator:hover {background-color: #d4ebff;}#sk-container-id-2 div.sk-parallel-item::after {content: \"\";width: 100%;border-bottom: 1px solid gray;flex-grow: 1;}#sk-container-id-2 div.sk-label:hover label.sk-toggleable__label {background-color: #d4ebff;}#sk-container-id-2 div.sk-serial::before {content: \"\";position: absolute;border-left: 1px solid gray;box-sizing: border-box;top: 0;bottom: 0;left: 50%;z-index: 0;}#sk-container-id-2 div.sk-serial {display: flex;flex-direction: column;align-items: center;background-color: white;padding-right: 0.2em;padding-left: 0.2em;position: relative;}#sk-container-id-2 div.sk-item {position: relative;z-index: 1;}#sk-container-id-2 div.sk-parallel {display: flex;align-items: stretch;justify-content: center;background-color: white;position: relative;}#sk-container-id-2 div.sk-item::before, #sk-container-id-2 div.sk-parallel-item::before {content: \"\";position: absolute;border-left: 1px solid gray;box-sizing: border-box;top: 0;bottom: 0;left: 50%;z-index: -1;}#sk-container-id-2 div.sk-parallel-item {display: flex;flex-direction: column;z-index: 1;position: relative;background-color: white;}#sk-container-id-2 div.sk-parallel-item:first-child::after {align-self: flex-end;width: 50%;}#sk-container-id-2 div.sk-parallel-item:last-child::after {align-self: flex-start;width: 50%;}#sk-container-id-2 div.sk-parallel-item:only-child::after {width: 0;}#sk-container-id-2 div.sk-dashed-wrapped {border: 1px dashed gray;margin: 0 0.4em 0.5em 0.4em;box-sizing: border-box;padding-bottom: 0.4em;background-color: white;}#sk-container-id-2 div.sk-label label {font-family: monospace;font-weight: bold;display: inline-block;line-height: 1.2em;}#sk-container-id-2 div.sk-label-container {text-align: center;}#sk-container-id-2 div.sk-container {/* jupyter's `normalize.less` sets `[hidden] { display: none; }` but bootstrap.min.css set `[hidden] { display: none !important; }` so we also need the `!important` here to be able to override the default hidden behavior on the sphinx rendered scikit-learn.org. See: https://github.com/scikit-learn/scikit-learn/issues/21755 */display: inline-block !important;position: relative;}#sk-container-id-2 div.sk-text-repr-fallback {display: none;}</style><div id=\"sk-container-id-2\" class=\"sk-top-container\"><div class=\"sk-text-repr-fallback\"><pre>LinearRegression()</pre><b>In a Jupyter environment, please rerun this cell to show the HTML representation or trust the notebook. <br />On GitHub, the HTML representation is unable to render, please try loading this page with nbviewer.org.</b></div><div class=\"sk-container\" hidden><div class=\"sk-item\"><div class=\"sk-estimator sk-toggleable\"><input class=\"sk-toggleable__control sk-hidden--visually\" id=\"sk-estimator-id-2\" type=\"checkbox\" checked><label for=\"sk-estimator-id-2\" class=\"sk-toggleable__label sk-toggleable__label-arrow\">LinearRegression</label><div class=\"sk-toggleable__content\"><pre>LinearRegression()</pre></div></div></div></div></div>"
      ],
      "text/plain": [
       "LinearRegression()"
      ]
     },
     "execution_count": 70,
     "metadata": {},
     "output_type": "execute_result"
    }
   ],
   "source": [
    "from sklearn.linear_model import LinearRegression\n",
    "\n",
    "regressor = LinearRegression()\n",
    "regressor.fit(X_train, y_train)"
   ]
  },
  {
   "cell_type": "code",
   "execution_count": 81,
   "metadata": {},
   "outputs": [],
   "source": [
    "from sklearn.metrics import mean_absolute_error,r2_score,mean_squared_error\n",
    "def evaluate(model):\n",
    "    y_pred = regressor.predict(X_test)\n",
    "    print(\"R^2 : \", r2_score(y_test, y_pred))\n",
    "    print(\"MAE :\", mean_absolute_error(y_test,y_pred))\n",
    "    print(\"RMSE:\",np.sqrt(mean_squared_error(y_test, y_pred)))"
   ]
  },
  {
   "cell_type": "code",
   "execution_count": 82,
   "metadata": {},
   "outputs": [
    {
     "name": "stdout",
     "output_type": "stream",
     "text": [
      "R^2 :  0.9827645333008613\n",
      "MAE : 0.005072792603318445\n",
      "RMSE: 0.008524642635195733\n"
     ]
    }
   ],
   "source": [
    "evaluate(regressor)"
   ]
  },
  {
   "cell_type": "code",
   "execution_count": 95,
   "metadata": {},
   "outputs": [
    {
     "data": {
      "text/html": [
       "<style>#sk-container-id-6 {color: black;background-color: white;}#sk-container-id-6 pre{padding: 0;}#sk-container-id-6 div.sk-toggleable {background-color: white;}#sk-container-id-6 label.sk-toggleable__label {cursor: pointer;display: block;width: 100%;margin-bottom: 0;padding: 0.3em;box-sizing: border-box;text-align: center;}#sk-container-id-6 label.sk-toggleable__label-arrow:before {content: \"▸\";float: left;margin-right: 0.25em;color: #696969;}#sk-container-id-6 label.sk-toggleable__label-arrow:hover:before {color: black;}#sk-container-id-6 div.sk-estimator:hover label.sk-toggleable__label-arrow:before {color: black;}#sk-container-id-6 div.sk-toggleable__content {max-height: 0;max-width: 0;overflow: hidden;text-align: left;background-color: #f0f8ff;}#sk-container-id-6 div.sk-toggleable__content pre {margin: 0.2em;color: black;border-radius: 0.25em;background-color: #f0f8ff;}#sk-container-id-6 input.sk-toggleable__control:checked~div.sk-toggleable__content {max-height: 200px;max-width: 100%;overflow: auto;}#sk-container-id-6 input.sk-toggleable__control:checked~label.sk-toggleable__label-arrow:before {content: \"▾\";}#sk-container-id-6 div.sk-estimator input.sk-toggleable__control:checked~label.sk-toggleable__label {background-color: #d4ebff;}#sk-container-id-6 div.sk-label input.sk-toggleable__control:checked~label.sk-toggleable__label {background-color: #d4ebff;}#sk-container-id-6 input.sk-hidden--visually {border: 0;clip: rect(1px 1px 1px 1px);clip: rect(1px, 1px, 1px, 1px);height: 1px;margin: -1px;overflow: hidden;padding: 0;position: absolute;width: 1px;}#sk-container-id-6 div.sk-estimator {font-family: monospace;background-color: #f0f8ff;border: 1px dotted black;border-radius: 0.25em;box-sizing: border-box;margin-bottom: 0.5em;}#sk-container-id-6 div.sk-estimator:hover {background-color: #d4ebff;}#sk-container-id-6 div.sk-parallel-item::after {content: \"\";width: 100%;border-bottom: 1px solid gray;flex-grow: 1;}#sk-container-id-6 div.sk-label:hover label.sk-toggleable__label {background-color: #d4ebff;}#sk-container-id-6 div.sk-serial::before {content: \"\";position: absolute;border-left: 1px solid gray;box-sizing: border-box;top: 0;bottom: 0;left: 50%;z-index: 0;}#sk-container-id-6 div.sk-serial {display: flex;flex-direction: column;align-items: center;background-color: white;padding-right: 0.2em;padding-left: 0.2em;position: relative;}#sk-container-id-6 div.sk-item {position: relative;z-index: 1;}#sk-container-id-6 div.sk-parallel {display: flex;align-items: stretch;justify-content: center;background-color: white;position: relative;}#sk-container-id-6 div.sk-item::before, #sk-container-id-6 div.sk-parallel-item::before {content: \"\";position: absolute;border-left: 1px solid gray;box-sizing: border-box;top: 0;bottom: 0;left: 50%;z-index: -1;}#sk-container-id-6 div.sk-parallel-item {display: flex;flex-direction: column;z-index: 1;position: relative;background-color: white;}#sk-container-id-6 div.sk-parallel-item:first-child::after {align-self: flex-end;width: 50%;}#sk-container-id-6 div.sk-parallel-item:last-child::after {align-self: flex-start;width: 50%;}#sk-container-id-6 div.sk-parallel-item:only-child::after {width: 0;}#sk-container-id-6 div.sk-dashed-wrapped {border: 1px dashed gray;margin: 0 0.4em 0.5em 0.4em;box-sizing: border-box;padding-bottom: 0.4em;background-color: white;}#sk-container-id-6 div.sk-label label {font-family: monospace;font-weight: bold;display: inline-block;line-height: 1.2em;}#sk-container-id-6 div.sk-label-container {text-align: center;}#sk-container-id-6 div.sk-container {/* jupyter's `normalize.less` sets `[hidden] { display: none; }` but bootstrap.min.css set `[hidden] { display: none !important; }` so we also need the `!important` here to be able to override the default hidden behavior on the sphinx rendered scikit-learn.org. See: https://github.com/scikit-learn/scikit-learn/issues/21755 */display: inline-block !important;position: relative;}#sk-container-id-6 div.sk-text-repr-fallback {display: none;}</style><div id=\"sk-container-id-6\" class=\"sk-top-container\"><div class=\"sk-text-repr-fallback\"><pre>KNeighborsRegressor()</pre><b>In a Jupyter environment, please rerun this cell to show the HTML representation or trust the notebook. <br />On GitHub, the HTML representation is unable to render, please try loading this page with nbviewer.org.</b></div><div class=\"sk-container\" hidden><div class=\"sk-item\"><div class=\"sk-estimator sk-toggleable\"><input class=\"sk-toggleable__control sk-hidden--visually\" id=\"sk-estimator-id-6\" type=\"checkbox\" checked><label for=\"sk-estimator-id-6\" class=\"sk-toggleable__label sk-toggleable__label-arrow\">KNeighborsRegressor</label><div class=\"sk-toggleable__content\"><pre>KNeighborsRegressor()</pre></div></div></div></div></div>"
      ],
      "text/plain": [
       "KNeighborsRegressor()"
      ]
     },
     "execution_count": 95,
     "metadata": {},
     "output_type": "execute_result"
    }
   ],
   "source": [
    "from sklearn.neighbors import KNeighborsRegressor\n",
    "\n",
    "knn = KNeighborsRegressor(n_neighbors=5)\n",
    "knn.fit(X_clf_train, y_clf_train)"
   ]
  },
  {
   "cell_type": "code",
   "execution_count": 96,
   "metadata": {},
   "outputs": [
    {
     "data": {
      "text/plain": [
       "-0.1333333333333333"
      ]
     },
     "execution_count": 96,
     "metadata": {},
     "output_type": "execute_result"
    }
   ],
   "source": [
    "knn.score(X_clf_test, y_clf_test)"
   ]
  },
  {
   "cell_type": "code",
   "execution_count": null,
   "metadata": {},
   "outputs": [],
   "source": []
  }
 ],
 "metadata": {
  "kernelspec": {
   "display_name": "Python 3.9.7 ('base')",
   "language": "python",
   "name": "python3"
  },
  "language_info": {
   "codemirror_mode": {
    "name": "ipython",
    "version": 3
   },
   "file_extension": ".py",
   "mimetype": "text/x-python",
   "name": "python",
   "nbconvert_exporter": "python",
   "pygments_lexer": "ipython3",
   "version": "3.9.7"
  },
  "orig_nbformat": 4,
  "vscode": {
   "interpreter": {
    "hash": "59e3bea8c74c7ca9cc0c915328f1ebef2b48c976b228eeb0120e920585f4a306"
   }
  }
 },
 "nbformat": 4,
 "nbformat_minor": 2
}
